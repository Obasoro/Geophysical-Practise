{
 "cells": [
  {
   "cell_type": "markdown",
   "metadata": {},
   "source": [
    "# Machine Learning application in Geophysical Investigation"
   ]
  },
  {
   "cell_type": "markdown",
   "metadata": {},
   "source": [
    "Python libraries and also the use of scikit tool can achieve the said goal\n",
    "\n",
    "Basic libraries such as Numpy, Pandas, Matplotlib, Sklearn, Seaborn, etc., are imported for ease data manipulation.  "
   ]
  },
  {
   "cell_type": "code",
   "execution_count": 2,
   "metadata": {},
   "outputs": [],
   "source": [
    "import pandas as pd\n",
    "import numpy as np\n",
    "import matplotlib.pyplot as plt\n",
    "import bruges as br\n",
    "import seaborn as sns\n",
    "\n",
    "%matplotlib inline"
   ]
  },
  {
   "cell_type": "markdown",
   "metadata": {},
   "source": [
    "The print(log_data.iloc[0:5]) give a preview of the data in tabular form,but the log_data.head() captures the whole data without breaking the table."
   ]
  },
  {
   "cell_type": "code",
   "execution_count": 6,
   "metadata": {},
   "outputs": [
    {
     "data": {
      "text/html": [
       "<div>\n",
       "<style scoped>\n",
       "    .dataframe tbody tr th:only-of-type {\n",
       "        vertical-align: middle;\n",
       "    }\n",
       "\n",
       "    .dataframe tbody tr th {\n",
       "        vertical-align: top;\n",
       "    }\n",
       "\n",
       "    .dataframe thead th {\n",
       "        text-align: right;\n",
       "    }\n",
       "</style>\n",
       "<table border=\"1\" class=\"dataframe\">\n",
       "  <thead>\n",
       "    <tr style=\"text-align: right;\">\n",
       "      <th></th>\n",
       "      <th>Density(g/cc)</th>\n",
       "      <th>Depth(ft)</th>\n",
       "      <th>g=10</th>\n",
       "      <th>OverBurden</th>\n",
       "      <th>Pore Pressure</th>\n",
       "      <th>Porosity</th>\n",
       "      <th>Pore Pressure Gradient</th>\n",
       "    </tr>\n",
       "  </thead>\n",
       "  <tbody>\n",
       "    <tr>\n",
       "      <th>0</th>\n",
       "      <td>1.9000</td>\n",
       "      <td>0.0</td>\n",
       "      <td>9.8</td>\n",
       "      <td>0.000000</td>\n",
       "      <td>0.000000</td>\n",
       "      <td>0.470588</td>\n",
       "      <td>0.000000</td>\n",
       "    </tr>\n",
       "    <tr>\n",
       "      <th>1</th>\n",
       "      <td>1.9000</td>\n",
       "      <td>94.0</td>\n",
       "      <td>9.8</td>\n",
       "      <td>77.355375</td>\n",
       "      <td>40.723951</td>\n",
       "      <td>0.470588</td>\n",
       "      <td>40.713355</td>\n",
       "    </tr>\n",
       "    <tr>\n",
       "      <th>2</th>\n",
       "      <td>1.8778</td>\n",
       "      <td>95.0</td>\n",
       "      <td>9.8</td>\n",
       "      <td>77.264853</td>\n",
       "      <td>41.157185</td>\n",
       "      <td>0.483647</td>\n",
       "      <td>41.146476</td>\n",
       "    </tr>\n",
       "    <tr>\n",
       "      <th>3</th>\n",
       "      <td>1.8778</td>\n",
       "      <td>95.5</td>\n",
       "      <td>9.8</td>\n",
       "      <td>77.671510</td>\n",
       "      <td>41.373802</td>\n",
       "      <td>0.483647</td>\n",
       "      <td>41.363036</td>\n",
       "    </tr>\n",
       "    <tr>\n",
       "      <th>4</th>\n",
       "      <td>1.8778</td>\n",
       "      <td>96.0</td>\n",
       "      <td>9.8</td>\n",
       "      <td>78.078167</td>\n",
       "      <td>41.590418</td>\n",
       "      <td>0.483647</td>\n",
       "      <td>41.579597</td>\n",
       "    </tr>\n",
       "  </tbody>\n",
       "</table>\n",
       "</div>"
      ],
      "text/plain": [
       "   Density(g/cc)  Depth(ft)  g=10  OverBurden  Pore Pressure  Porosity  \\\n",
       "0         1.9000        0.0   9.8    0.000000       0.000000  0.470588   \n",
       "1         1.9000       94.0   9.8   77.355375      40.723951  0.470588   \n",
       "2         1.8778       95.0   9.8   77.264853      41.157185  0.483647   \n",
       "3         1.8778       95.5   9.8   77.671510      41.373802  0.483647   \n",
       "4         1.8778       96.0   9.8   78.078167      41.590418  0.483647   \n",
       "\n",
       "   Pore Pressure Gradient  \n",
       "0                0.000000  \n",
       "1               40.713355  \n",
       "2               41.146476  \n",
       "3               41.363036  \n",
       "4               41.579597  "
      ]
     },
     "execution_count": 6,
     "metadata": {},
     "output_type": "execute_result"
    }
   ],
   "source": [
    "log_data = pd.read_csv(\"C:\\\\Users\\\\Toyin Obasoro\\\\Desktop\\\\Kunle practise\\\\RES  - Copy.csv\")\n",
    "log_data.head()"
   ]
  },
  {
   "cell_type": "code",
   "execution_count": 8,
   "metadata": {},
   "outputs": [
    {
     "name": "stdout",
     "output_type": "stream",
     "text": [
      "   Density(g/cc)  Depth(ft)  g=10  OverBurden  Pore Pressure  Porosity  \\\n",
      "0         1.9000        0.0   9.8    0.000000       0.000000  0.470588   \n",
      "1         1.9000       94.0   9.8   77.355375      40.723951  0.470588   \n",
      "2         1.8778       95.0   9.8   77.264853      41.157185  0.483647   \n",
      "3         1.8778       95.5   9.8   77.671510      41.373802  0.483647   \n",
      "4         1.8778       96.0   9.8   78.078167      41.590418  0.483647   \n",
      "\n",
      "   Pore Pressure Gradient  \n",
      "0                0.000000  \n",
      "1               40.713355  \n",
      "2               41.146476  \n",
      "3               41.363036  \n",
      "4               41.579597  \n"
     ]
    }
   ],
   "source": [
    "print(log_data.iloc[0:5])"
   ]
  },
  {
   "cell_type": "markdown",
   "metadata": {},
   "source": [
    "Basic description of the log data to know the number of entries and also hidden information"
   ]
  },
  {
   "cell_type": "code",
   "execution_count": 9,
   "metadata": {},
   "outputs": [
    {
     "name": "stdout",
     "output_type": "stream",
     "text": [
      "<class 'pandas.core.frame.DataFrame'>\n",
      "RangeIndex: 12200 entries, 0 to 12199\n",
      "Data columns (total 7 columns):\n",
      "Density(g/cc)             12200 non-null float64\n",
      "Depth(ft)                 12200 non-null float64\n",
      "g=10                      12200 non-null float64\n",
      "OverBurden                12200 non-null float64\n",
      "Pore Pressure             12200 non-null float64\n",
      "Porosity                  12200 non-null float64\n",
      "Pore Pressure Gradient    12200 non-null float64\n",
      "dtypes: float64(7)\n",
      "memory usage: 667.3 KB\n"
     ]
    }
   ],
   "source": [
    "log_data.info()"
   ]
  },
  {
   "cell_type": "code",
   "execution_count": 10,
   "metadata": {},
   "outputs": [
    {
     "data": {
      "text/html": [
       "<div>\n",
       "<style scoped>\n",
       "    .dataframe tbody tr th:only-of-type {\n",
       "        vertical-align: middle;\n",
       "    }\n",
       "\n",
       "    .dataframe tbody tr th {\n",
       "        vertical-align: top;\n",
       "    }\n",
       "\n",
       "    .dataframe thead th {\n",
       "        text-align: right;\n",
       "    }\n",
       "</style>\n",
       "<table border=\"1\" class=\"dataframe\">\n",
       "  <thead>\n",
       "    <tr style=\"text-align: right;\">\n",
       "      <th></th>\n",
       "      <th>Density(g/cc)</th>\n",
       "      <th>Depth(ft)</th>\n",
       "      <th>g=10</th>\n",
       "      <th>OverBurden</th>\n",
       "      <th>Pore Pressure</th>\n",
       "      <th>Porosity</th>\n",
       "      <th>Pore Pressure Gradient</th>\n",
       "    </tr>\n",
       "  </thead>\n",
       "  <tbody>\n",
       "    <tr>\n",
       "      <th>count</th>\n",
       "      <td>12200.000000</td>\n",
       "      <td>12200.000000</td>\n",
       "      <td>1.220000e+04</td>\n",
       "      <td>12200.000000</td>\n",
       "      <td>12200.000000</td>\n",
       "      <td>12200.000000</td>\n",
       "      <td>12200.000000</td>\n",
       "    </tr>\n",
       "    <tr>\n",
       "      <th>mean</th>\n",
       "      <td>2.555113</td>\n",
       "      <td>3143.742254</td>\n",
       "      <td>9.800000e+00</td>\n",
       "      <td>3559.684681</td>\n",
       "      <td>1361.974538</td>\n",
       "      <td>0.085228</td>\n",
       "      <td>1361.620160</td>\n",
       "    </tr>\n",
       "    <tr>\n",
       "      <th>std</th>\n",
       "      <td>0.244016</td>\n",
       "      <td>1761.004110</td>\n",
       "      <td>1.971837e-12</td>\n",
       "      <td>2011.742039</td>\n",
       "      <td>762.926018</td>\n",
       "      <td>0.143539</td>\n",
       "      <td>762.727509</td>\n",
       "    </tr>\n",
       "    <tr>\n",
       "      <th>min</th>\n",
       "      <td>1.425300</td>\n",
       "      <td>0.000000</td>\n",
       "      <td>9.800000e+00</td>\n",
       "      <td>0.000000</td>\n",
       "      <td>0.000000</td>\n",
       "      <td>-1.134588</td>\n",
       "      <td>0.000000</td>\n",
       "    </tr>\n",
       "    <tr>\n",
       "      <th>25%</th>\n",
       "      <td>2.587600</td>\n",
       "      <td>1618.875000</td>\n",
       "      <td>9.800000e+00</td>\n",
       "      <td>1851.853025</td>\n",
       "      <td>701.350923</td>\n",
       "      <td>0.025632</td>\n",
       "      <td>701.168435</td>\n",
       "    </tr>\n",
       "    <tr>\n",
       "      <th>50%</th>\n",
       "      <td>2.632500</td>\n",
       "      <td>3143.750000</td>\n",
       "      <td>9.800000e+00</td>\n",
       "      <td>3613.575117</td>\n",
       "      <td>1361.977894</td>\n",
       "      <td>0.039706</td>\n",
       "      <td>1361.623515</td>\n",
       "    </tr>\n",
       "    <tr>\n",
       "      <th>75%</th>\n",
       "      <td>2.656425</td>\n",
       "      <td>4668.625000</td>\n",
       "      <td>9.800000e+00</td>\n",
       "      <td>5294.584086</td>\n",
       "      <td>2022.604865</td>\n",
       "      <td>0.066118</td>\n",
       "      <td>2022.078595</td>\n",
       "    </tr>\n",
       "    <tr>\n",
       "      <th>max</th>\n",
       "      <td>4.628800</td>\n",
       "      <td>6193.500000</td>\n",
       "      <td>9.800000e+00</td>\n",
       "      <td>7589.715222</td>\n",
       "      <td>2683.231837</td>\n",
       "      <td>0.749824</td>\n",
       "      <td>2682.533675</td>\n",
       "    </tr>\n",
       "  </tbody>\n",
       "</table>\n",
       "</div>"
      ],
      "text/plain": [
       "       Density(g/cc)     Depth(ft)          g=10    OverBurden  Pore Pressure  \\\n",
       "count   12200.000000  12200.000000  1.220000e+04  12200.000000   12200.000000   \n",
       "mean        2.555113   3143.742254  9.800000e+00   3559.684681    1361.974538   \n",
       "std         0.244016   1761.004110  1.971837e-12   2011.742039     762.926018   \n",
       "min         1.425300      0.000000  9.800000e+00      0.000000       0.000000   \n",
       "25%         2.587600   1618.875000  9.800000e+00   1851.853025     701.350923   \n",
       "50%         2.632500   3143.750000  9.800000e+00   3613.575117    1361.977894   \n",
       "75%         2.656425   4668.625000  9.800000e+00   5294.584086    2022.604865   \n",
       "max         4.628800   6193.500000  9.800000e+00   7589.715222    2683.231837   \n",
       "\n",
       "           Porosity  Pore Pressure Gradient  \n",
       "count  12200.000000            12200.000000  \n",
       "mean       0.085228             1361.620160  \n",
       "std        0.143539              762.727509  \n",
       "min       -1.134588                0.000000  \n",
       "25%        0.025632              701.168435  \n",
       "50%        0.039706             1361.623515  \n",
       "75%        0.066118             2022.078595  \n",
       "max        0.749824             2682.533675  "
      ]
     },
     "execution_count": 10,
     "metadata": {},
     "output_type": "execute_result"
    }
   ],
   "source": [
    "log_data.describe()"
   ]
  },
  {
   "cell_type": "code",
   "execution_count": 12,
   "metadata": {},
   "outputs": [
    {
     "name": "stderr",
     "output_type": "stream",
     "text": [
      "C:\\Users\\Toyin Obasoro\\AppData\\Local\\Continuum\\anaconda3\\lib\\site-packages\\ipykernel_launcher.py:3: UserWarning: Pandas doesn't allow columns to be created via a new attribute name - see https://pandas.pydata.org/pandas-docs/stable/indexing.html#attribute-access\n",
      "  This is separate from the ipykernel package so we can avoid doing imports until\n"
     ]
    },
    {
     "data": {
      "text/html": [
       "<div>\n",
       "<style scoped>\n",
       "    .dataframe tbody tr th:only-of-type {\n",
       "        vertical-align: middle;\n",
       "    }\n",
       "\n",
       "    .dataframe tbody tr th {\n",
       "        vertical-align: top;\n",
       "    }\n",
       "\n",
       "    .dataframe thead th {\n",
       "        text-align: right;\n",
       "    }\n",
       "</style>\n",
       "<table border=\"1\" class=\"dataframe\">\n",
       "  <thead>\n",
       "    <tr style=\"text-align: right;\">\n",
       "      <th></th>\n",
       "      <th>Density(g/cc)</th>\n",
       "      <th>Porosity</th>\n",
       "    </tr>\n",
       "  </thead>\n",
       "  <tbody>\n",
       "    <tr>\n",
       "      <th>count</th>\n",
       "      <td>12200.000000</td>\n",
       "      <td>12200.000000</td>\n",
       "    </tr>\n",
       "    <tr>\n",
       "      <th>mean</th>\n",
       "      <td>2.555113</td>\n",
       "      <td>0.085228</td>\n",
       "    </tr>\n",
       "    <tr>\n",
       "      <th>std</th>\n",
       "      <td>0.244016</td>\n",
       "      <td>0.143539</td>\n",
       "    </tr>\n",
       "    <tr>\n",
       "      <th>min</th>\n",
       "      <td>1.425300</td>\n",
       "      <td>-1.134588</td>\n",
       "    </tr>\n",
       "    <tr>\n",
       "      <th>25%</th>\n",
       "      <td>2.587600</td>\n",
       "      <td>0.025632</td>\n",
       "    </tr>\n",
       "    <tr>\n",
       "      <th>50%</th>\n",
       "      <td>2.632500</td>\n",
       "      <td>0.039706</td>\n",
       "    </tr>\n",
       "    <tr>\n",
       "      <th>75%</th>\n",
       "      <td>2.656425</td>\n",
       "      <td>0.066118</td>\n",
       "    </tr>\n",
       "    <tr>\n",
       "      <th>max</th>\n",
       "      <td>4.628800</td>\n",
       "      <td>0.749824</td>\n",
       "    </tr>\n",
       "  </tbody>\n",
       "</table>\n",
       "</div>"
      ],
      "text/plain": [
       "       Density(g/cc)      Porosity\n",
       "count   12200.000000  12200.000000\n",
       "mean        2.555113      0.085228\n",
       "std         0.244016      0.143539\n",
       "min         1.425300     -1.134588\n",
       "25%         2.587600      0.025632\n",
       "50%         2.632500      0.039706\n",
       "75%         2.656425      0.066118\n",
       "max         4.628800      0.749824"
      ]
     },
     "execution_count": 12,
     "metadata": {},
     "output_type": "execute_result"
    }
   ],
   "source": [
    "log_well = log_data\n",
    "log_well = log_well[['Density(g/cc)', 'Porosity']]\n",
    "log_well.colunms = ['Density(g/cc)', 'Porosity']\n",
    "log_well.describe()"
   ]
  },
  {
   "cell_type": "code",
   "execution_count": 15,
   "metadata": {},
   "outputs": [
    {
     "name": "stdout",
     "output_type": "stream",
     "text": [
      "Density(g/cc) False\n",
      "Porosity False\n",
      "Density(g/cc)    0\n",
      "Porosity         0\n",
      "dtype: int64\n"
     ]
    }
   ],
   "source": [
    "for x in log_well.columns:\n",
    "    print(x, log_well[x].isnull().values.any())\n",
    "print(log_well.isnull().sum())"
   ]
  },
  {
   "cell_type": "code",
   "execution_count": 21,
   "metadata": {},
   "outputs": [
    {
     "data": {
      "text/html": [
       "<div>\n",
       "<style scoped>\n",
       "    .dataframe tbody tr th:only-of-type {\n",
       "        vertical-align: middle;\n",
       "    }\n",
       "\n",
       "    .dataframe tbody tr th {\n",
       "        vertical-align: top;\n",
       "    }\n",
       "\n",
       "    .dataframe thead th {\n",
       "        text-align: right;\n",
       "    }\n",
       "</style>\n",
       "<table border=\"1\" class=\"dataframe\">\n",
       "  <thead>\n",
       "    <tr style=\"text-align: right;\">\n",
       "      <th></th>\n",
       "      <th>count</th>\n",
       "      <th>mean</th>\n",
       "      <th>std</th>\n",
       "      <th>min</th>\n",
       "      <th>25%</th>\n",
       "      <th>50%</th>\n",
       "      <th>75%</th>\n",
       "      <th>max</th>\n",
       "    </tr>\n",
       "  </thead>\n",
       "  <tbody>\n",
       "    <tr>\n",
       "      <th>Density(g/cc)</th>\n",
       "      <td>12200.0</td>\n",
       "      <td>2.555113</td>\n",
       "      <td>0.244016</td>\n",
       "      <td>1.425300</td>\n",
       "      <td>2.587600</td>\n",
       "      <td>2.632500</td>\n",
       "      <td>2.656425</td>\n",
       "      <td>4.628800</td>\n",
       "    </tr>\n",
       "    <tr>\n",
       "      <th>Porosity</th>\n",
       "      <td>12200.0</td>\n",
       "      <td>0.085228</td>\n",
       "      <td>0.143539</td>\n",
       "      <td>-1.134588</td>\n",
       "      <td>0.025632</td>\n",
       "      <td>0.039706</td>\n",
       "      <td>0.066118</td>\n",
       "      <td>0.749824</td>\n",
       "    </tr>\n",
       "  </tbody>\n",
       "</table>\n",
       "</div>"
      ],
      "text/plain": [
       "                 count      mean       std       min       25%       50%  \\\n",
       "Density(g/cc)  12200.0  2.555113  0.244016  1.425300  2.587600  2.632500   \n",
       "Porosity       12200.0  0.085228  0.143539 -1.134588  0.025632  0.039706   \n",
       "\n",
       "                    75%       max  \n",
       "Density(g/cc)  2.656425  4.628800  \n",
       "Porosity       0.066118  0.749824  "
      ]
     },
     "execution_count": 21,
     "metadata": {},
     "output_type": "execute_result"
    }
   ],
   "source": [
    "log_well.describe().transpose()"
   ]
  },
  {
   "cell_type": "markdown",
   "metadata": {},
   "source": [
    "The use of other geostatistic libraries for data visualization and presentation. This would enable for p"
   ]
  },
  {
   "cell_type": "code",
   "execution_count": 31,
   "metadata": {},
   "outputs": [],
   "source": [
    "import geostatspy.GSLIB as GSLIB\n",
    "import geostatspy.geostats as geostats\n",
    "from scipy import stats\n",
    "import scipy.signal as signal\n",
    "import scipy.stats as st\n",
    "import math"
   ]
  },
  {
   "cell_type": "code",
   "execution_count": 22,
   "metadata": {},
   "outputs": [],
   "source": [
    "xmin = 0.0; xmax = 1000.0                       # range of x values\n",
    "ymin = 0.0; ymax = 1000.0                       # range of y values\n",
    "denmin = 1.4253; denmax = 4.62288;              # range of density values\n",
    "pormmin = -1.134588; permmax = 0.749824         # range of porosity values\n",
    "nx = 100; ny = 100; csize = 10.0\n",
    "cmap = plt.cm.plasma                            # color map"
   ]
  },
  {
   "cell_type": "code",
   "execution_count": 28,
   "metadata": {},
   "outputs": [
    {
     "data": {
      "text/plain": [
       "\"\\nplt.subplot(221)\\nGSLIB.locmap_st(log_well,'X','Y','Density(g/cc)',xmin,xmax,ymin,ymax,denmin,denmax,'Well Data - Density', 'X', 'Y', 'Density',cmap)\\n\\nplt.subplot(222)\\nGSLIB.locmap_st(log_well,'X', 'Y','Porosity',xmin,xmax,ymin,ymax,pormin,pormax,'Well Data - Porosity','X', 'Y', 'Porosity (fraction)',cmap)\\n\\n\\nplt.subplots_adjust(left=0.0, bottom=0.0, right=3.0, top=3.2, wspace=0.2, hspace=0.2)\\nplt.show()\\n\""
      ]
     },
     "execution_count": 28,
     "metadata": {},
     "output_type": "execute_result"
    }
   ],
   "source": [
    "\"\"\"\n",
    "plt.subplot(221)\n",
    "GSLIB.locmap_st(log_well,'X','Y','Density(g/cc)',xmin,xmax,ymin,ymax,denmin,denmax,'Well Data - Density', 'X', 'Y', 'Density',cmap)\n",
    "\n",
    "plt.subplot(222)\n",
    "GSLIB.locmap_st(log_well,'X', 'Y','Porosity',xmin,xmax,ymin,ymax,pormin,pormax,'Well Data - Porosity','X', 'Y', 'Porosity (fraction)',cmap)\n",
    "\n",
    "\n",
    "plt.subplots_adjust(left=0.0, bottom=0.0, right=3.0, top=3.2, wspace=0.2, hspace=0.2)\n",
    "plt.show()\n",
    "\"\"\""
   ]
  },
  {
   "cell_type": "markdown",
   "metadata": {},
   "source": [
    "## Linear regression Model on the Data"
   ]
  },
  {
   "cell_type": "code",
   "execution_count": 34,
   "metadata": {},
   "outputs": [],
   "source": [
    "den = log_well['Density(g/cc)']\n",
    "por = log_well['Porosity']"
   ]
  },
  {
   "cell_type": "code",
   "execution_count": 35,
   "metadata": {},
   "outputs": [
    {
     "name": "stdout",
     "output_type": "stream",
     "text": [
      "The model parameters are, slope (b1) = -0.59, and the intercept (b0) = 1.59\n"
     ]
    }
   ],
   "source": [
    "slope, intercept, r_value, p_value, std_err = st.linregress(den,por)\n",
    "\n",
    "print('The model parameters are, slope (b1) = ' + str(round(slope,2)) + ', and the intercept (b0) = ' + str(round(intercept,2)))\n"
   ]
  },
  {
   "cell_type": "code",
   "execution_count": 38,
   "metadata": {},
   "outputs": [
    {
     "data": {
      "image/png": "[encoded data removed]",
      "text/plain": [
       "<Figure size 432x288 with 1 Axes>"
      ]
     },
     "metadata": {
      "needs_background": "light"
     },
     "output_type": "display_data"
    }
   ],
   "source": [
    "plt.plot(den, por, 'o', label='sample data')\n",
    "plt.plot(den, intercept + slope*den, 'r', label='linear_regression_model')\n",
    "plt.xlabel\n",
    "plt.legend()\n",
    "plt.show()"
   ]
  },
  {
   "cell_type": "markdown",
   "metadata": {},
   "source": [
    "To determine the coefficient of correlation,r^2"
   ]
  },
  {
   "cell_type": "code",
   "execution_count": 39,
   "metadata": {},
   "outputs": [
    {
     "name": "stdout",
     "output_type": "stream",
     "text": [
      "The correlation coefficient is = -1.0 and the r-squared value =  1.0\n"
     ]
    }
   ],
   "source": [
    "print('The correlation coefficient is = ' + str(round(r_value,2)) + ' and the r-squared value = ', str(round(r_value**2,2)))"
   ]
  },
  {
   "cell_type": "code",
   "execution_count": 40,
   "metadata": {},
   "outputs": [
    {
     "name": "stdout",
     "output_type": "stream",
     "text": [
      "The t critical lower and upper values are [-1.96015848  1.96015848]\n",
      "and the t statistic is -inf\n"
     ]
    },
    {
     "name": "stderr",
     "output_type": "stream",
     "text": [
      "C:\\Users\\Toyin Obasoro\\AppData\\Local\\Continuum\\anaconda3\\lib\\site-packages\\ipykernel_launcher.py:3: RuntimeWarning: divide by zero encountered in double_scalars\n",
      "  This is separate from the ipykernel package so we can avoid doing imports until\n"
     ]
    }
   ],
   "source": [
    "t_critical = st.t.ppf([0.025,0.975], df=len(den)-2)\n",
    "print('The t critical lower and upper values are ' + str(t_critical))\n",
    "print('and the t statistic is ' + str(round(slope/std_err,2)))"
   ]
  },
  {
   "cell_type": "code",
   "execution_count": 41,
   "metadata": {},
   "outputs": [
    {
     "name": "stdout",
     "output_type": "stream",
     "text": [
      "The slope confidence interval is -0.59+/-0.0\n",
      "The slope P02.5 and P97.5 are [-0.58823529 -0.58823529]\n"
     ]
    }
   ],
   "source": [
    "print('The slope confidence interval is ' + str(round(slope,2)) + '+/-' + str(round(t_critical[1] * std_err,2)))\n",
    "print('The slope P02.5 and P97.5 are ' + str( slope + t_critical*std_err))"
   ]
  },
  {
   "cell_type": "code",
   "execution_count": 42,
   "metadata": {},
   "outputs": [
    {
     "data": {
      "text/plain": [
       "Text(0.5, 0, 'Porosity (%)')"
      ]
     },
     "execution_count": 42,
     "metadata": {},
     "output_type": "execute_result"
    },
    {
     "data": {
      "image/png": "[encoded data removed]",
      "text/plain": [
       "<Figure size 432x288 with 1 Axes>"
      ]
     },
     "metadata": {
      "needs_background": "light"
     },
     "output_type": "display_data"
    }
   ],
   "source": [
    "por_hat = slope * den + intercept\n",
    "plt.hist(por_hat)\n",
    "plt.title(\"Porosity Predictions with Linear Model\")\n",
    "plt.xlabel('Porosity (%)')"
   ]
  },
  {
   "cell_type": "code",
   "execution_count": 43,
   "metadata": {},
   "outputs": [
    {
     "data": {
      "image/png": "[encoded data removed]",
      "text/plain": [
       "<Figure size 432x288 with 1 Axes>"
      ]
     },
     "metadata": {
      "needs_background": "light"
     },
     "output_type": "display_data"
    }
   ],
   "source": [
    "plt.plot(den, por, 'o', label='sample data')\n",
    "plt.plot(den, por_hat, 'o', label='model')\n",
    "plt.title('Sample Data vs. Model')\n",
    "plt.xlabel('Density (g/cm3)')\n",
    "plt.ylabel('Porosity (%)')\n",
    "plt.legend()\n",
    "plt.show()"
   ]
  },
  {
   "cell_type": "code",
   "execution_count": 44,
   "metadata": {},
   "outputs": [
    {
     "name": "stdout",
     "output_type": "stream",
     "text": [
      "The average of the residuals is -0.0\n"
     ]
    },
    {
     "data": {
      "image/png": "[encoded data removed]",
      "text/plain": [
       "<Figure size 432x288 with 1 Axes>"
      ]
     },
     "metadata": {
      "needs_background": "light"
     },
     "output_type": "display_data"
    }
   ],
   "source": [
    "residual = por - por_hat\n",
    "plt.hist(residual)\n",
    "plt.title(\"Residual\")\n",
    "plt.xlabel('Porosity True - Estimate (%)')\n",
    "print('The average of the residuals is ' + str(round(np.mean(residual),2)))"
   ]
  },
  {
   "cell_type": "code",
   "execution_count": 45,
   "metadata": {},
   "outputs": [
    {
     "data": {
      "image/png": "[encoded data removed]",
      "text/plain": [
       "<Figure size 432x288 with 1 Axes>"
      ]
     },
     "metadata": {
      "needs_background": "light"
     },
     "output_type": "display_data"
    }
   ],
   "source": [
    "plt.plot(por_hat, residual, 'o')\n",
    "plt.title('Residual vs. Fitted Value')\n",
    "plt.xlabel('Porosity Estimate (%)')\n",
    "plt.ylabel('Porosity Residual (%)')\n",
    "plt.plot([5,20], [0,0], 'r')\n",
    "plt.show()"
   ]
  },
  {
   "cell_type": "markdown",
   "metadata": {},
   "source": [
    "We wouldnow use the sklearn method for linear regression."
   ]
  },
  {
   "cell_type": "code",
   "execution_count": 47,
   "metadata": {},
   "outputs": [],
   "source": [
    "from sklearn.model_selection import train_test_split\n",
    "\n",
    "train_set, test_set = train_test_split(log_well, test_size = 0.2, random_state = 42)"
   ]
  },
  {
   "cell_type": "code",
   "execution_count": null,
   "metadata": {},
   "outputs": [],
   "source": []
  }
 ],
 "metadata": {
  "kernelspec": {
   "display_name": "Python 3",
   "language": "python",
   "name": "python3"
  },
  "language_info": {
   "codemirror_mode": {
    "name": "ipython",
    "version": 3
   },
   "file_extension": ".py",
   "mimetype": "text/x-python",
   "name": "python",
   "nbconvert_exporter": "python",
   "pygments_lexer": "ipython3",
   "version": "3.7.1"
  }
 },
 "nbformat": 4,
 "nbformat_minor": 2
}
